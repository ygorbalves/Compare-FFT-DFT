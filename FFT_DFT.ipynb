{
  "nbformat": 4,
  "nbformat_minor": 0,
  "metadata": {
    "colab": {
      "provenance": [],
      "private_outputs": true
    },
    "kernelspec": {
      "name": "python3",
      "display_name": "Python 3"
    },
    "language_info": {
      "name": "python"
    }
  },
  "cells": [
    {
      "cell_type": "code",
      "execution_count": null,
      "metadata": {
        "id": "MZurEbwnIsIV"
      },
      "outputs": [],
      "source": [
        "import numpy as np\n",
        "import time"
      ]
    },
    {
      "cell_type": "code",
      "source": [
        "arquivo = input('Digite o endereço do arquivo de entrada: ')\n",
        "fileID = open(arquivo);\n",
        "x = np.loadtxt(fileID,delimiter=' ');\n",
        "fileID.close()\n",
        "\n",
        "output = input('Digite o nome do arquivo de extensão .txt de saída: ')"
      ],
      "metadata": {
        "id": "8GmZ4wl8HANJ"
      },
      "execution_count": null,
      "outputs": []
    },
    {
      "cell_type": "code",
      "source": [
        "def dft(x):\n",
        "  #tempo_inicial=time.time()#em segundos\n",
        "  N = len(x)\n",
        "  y = np.zeros(N, dtype = np.complex128)\n",
        "\n",
        "  novox = np.zeros(N, dtype = np.complex128)\n",
        "  for i in range(N): #Passando a matriz de entrada para o formato complexo\n",
        "    novox[i] = complex(x[i][0], x[i][1])\n",
        "\n",
        "  for i in range(N): # k = i\n",
        "    for j in range(N): # n = j\n",
        "      y[i] += np.round(novox[j]*np.exp((-2j*np.pi*i*j)/N),5)\n",
        "  #tempo_final=time.time()# em segundos\n",
        "  #print(f\"{np.round(tempo_final-tempo_inicial,8)} segundos\")\n",
        "  i=0\n",
        "  with open(output, 'w') as saida: #Salvando resultado num arquivo de saída txt\n",
        "    while i < len(y):\n",
        "      saida.write(str(y[i])+'\\n')\n",
        "      i+=1  \n",
        "\n",
        "  return y #Resultado Final obtido  "
      ],
      "metadata": {
        "id": "0JEXHGjNzj_c"
      },
      "execution_count": null,
      "outputs": []
    },
    {
      "cell_type": "code",
      "source": [
        "%%timeit\n",
        "dft(x)"
      ],
      "metadata": {
        "id": "PCxia0k_APVC"
      },
      "execution_count": null,
      "outputs": []
    },
    {
      "cell_type": "code",
      "source": [
        "def reverseBits(num,bitSize):   #Reversão de Bits (número a ser revertido,quantidade de bits)\n",
        "     binary = bin(num)\n",
        "     reverse = binary[-1:1:-1]  \n",
        "     reverse = reverse + (bitSize - len(reverse))*'0'\n",
        "     #print(reverse) #número revertido em Bits\n",
        "     #print(int(reverse,2))   #número revertido em Decimal\n",
        "     return int(reverse,2)"
      ],
      "metadata": {
        "id": "esoEd02CSakM"
      },
      "execution_count": null,
      "outputs": []
    },
    {
      "cell_type": "code",
      "source": [
        "def fft(x):\n",
        "  N = len(x)\n",
        "  tempo_inicial = time.time()\n",
        "  novox = np.zeros(N, dtype = np.complex128)\n",
        "\n",
        "  for i in range(N): #Passando a matriz de entrada para o formato complexo\n",
        "    novox[i] = complex(x[i][0], x[i][1])\n",
        "  N = len(novox)\n",
        "  aux = N\n",
        "  zeros = 0; #contador\n",
        "  if(N&(N-1)): #Verificação se o tamanho do vetor é potência de 2\n",
        "    print('Este número não é uma potência de 2.')\n",
        "    while aux&(aux-1):\n",
        "      aux += 1\n",
        "      zeros += 1\n",
        "    fill = (0, zeros)\n",
        "    novox = np.pad(novox, fill, 'constant') #Zero Padding\n",
        "    N = len(novox)\n",
        "\n",
        "    \n",
        "  else: print('Este número é uma potência de 2.')\n",
        "  print(\"N2=\",N)\n",
        "  NU = int(np.log2(N)) #Número de Estágios\n",
        "  y = np.zeros(N, dtype = np.complex128)\n",
        "\n",
        "  for i in range(N): #Reordenação da matriz de entrada\n",
        "    ordem = reverseBits(i,int(NU))\n",
        "    y[i]= novox[ordem]\n",
        "    #print(\"ordem =\",ordem)\n",
        "\n",
        "  A = np.zeros(2, dtype = np.complex128)\n",
        "\n",
        "  # Borboleta\n",
        "  for L in range(int(NU)):\n",
        "    L+=1\n",
        "    #print(L,\"° estágio\")\n",
        "    k=0 #índice do vetor de saída\n",
        "    LE = pow(2,L)\n",
        "    LE1 = LE/2\n",
        "    I=LE\n",
        "    J = 0\n",
        "    while J < int(LE1):\n",
        "      I = J\n",
        "      J +=1\n",
        "      while I < N:\n",
        "        n = J-1\n",
        "        IP = I+LE1\n",
        "        A[0] = y[I]\n",
        "        A[1] = y[int(IP)]\n",
        "        y[I] = y[I]+np.exp((-2j*np.pi*n)/LE)*y[int(IP)]\n",
        "        y[int(IP)] = A[0]-np.exp((-2j*np.pi*n)/LE)*A[1]\n",
        "        I+=LE\n",
        "        \n",
        "  tempo_final= time.time()\n",
        "  print(f\"{np.round(tempo_final-tempo_inicial,8)} segundos\")\n",
        "  i=0\n",
        "  output = input('Digite o nome do arquivo de extensão .txt de saída: ')\n",
        "  with open(output, 'w') as saida: #Salvando resultado num arquivo de saída txt\n",
        "    while i < len(y):\n",
        "      saida.write(str(y[i])+'\\n')\n",
        "      i+=1  \n",
        "\n",
        "  return y"
      ],
      "metadata": {
        "id": "C1DKfQNPvKPK"
      },
      "execution_count": null,
      "outputs": []
    },
    {
      "cell_type": "code",
      "source": [
        "fft(x)"
      ],
      "metadata": {
        "id": "dt212VmX2D2D"
      },
      "execution_count": null,
      "outputs": []
    }
  ]
}